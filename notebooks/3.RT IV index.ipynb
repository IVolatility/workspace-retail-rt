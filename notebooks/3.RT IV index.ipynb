{
 "cells": [
  {
   "cell_type": "code",
   "execution_count": null,
   "metadata": {},
   "outputs": [],
   "source": [
    "from pandas import to_datetime, DataFrame, Timestamp\n",
    "import ivolatility as ivol\n",
    "import time\n",
    "from IPython.display import display, clear_output\n",
    "import os\n",
    "\n",
    "ivolApiKey = os.getenv('API_KEY')\n",
    "\n",
    "getMarketData = ivol.setMethod(\"/equities/rt/ivx\")\n",
    "\n",
    "tickers = 'SPX,VIX,OGN'\n",
    "\n",
    "while True:\n",
    "    marketData = getMarketData(symbols=tickers)\n",
    "    \n",
    "    df = DataFrame(marketData)\n",
    "    clear_output(wait=True)\n",
    "    display(df)\n",
    "\n",
    "    time.sleep(44)"
   ]
  }
 ],
 "metadata": {
  "kernelspec": {
   "display_name": "Python 3",
   "language": "python",
   "name": "python3"
  },
  "language_info": {
   "codemirror_mode": {
    "name": "ipython",
    "version": 3
   },
   "file_extension": ".py",
   "mimetype": "text/x-python",
   "name": "python",
   "nbconvert_exporter": "python",
   "pygments_lexer": "ipython3",
   "version": "3.11.4"
  }
 },
 "nbformat": 4,
 "nbformat_minor": 2
}
