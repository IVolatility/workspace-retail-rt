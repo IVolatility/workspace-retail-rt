{
 "cells": [
  {
   "cell_type": "code",
   "execution_count": null,
   "metadata": {},
   "outputs": [],
   "source": [
    "import pandas import to_datetime, DataFrame, Timestamp\n",
    "import ivolatility as ivol\n",
    "import time\n",
    "from IPython.display import display, clear_output\n",
    "import os\n",
    "\n",
    "ivolApiKey = os.getenv('API_KEY')\n",
    "\n",
    "getMarketData = ivol.setMethod(\"/equities/rt/ivs\")\n",
    "\n",
    "tickers = 'SPX,VIX,OGN'\n",
    "\n",
    "while True:\n",
    "    marketData = getMarketData(symbols=tickers, terms=\"30,60,90\", otms=\"30\")\n",
    "    \n",
    "    df = DataFrame(marketData)\n",
    "    clear_output(wait=True)\n",
    "    display(df)\n",
    "\n",
    "    time.sleep(44)"
   ]
  }
 ],
 "metadata": {
  "language_info": {
   "name": "python"
  }
 },
 "nbformat": 4,
 "nbformat_minor": 2
}
