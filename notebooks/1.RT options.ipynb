{
 "cells": [
  {
   "cell_type": "code",
   "execution_count": null,
   "metadata": {},
   "outputs": [],
   "source": [
    "from pandas import to_datetime, DataFrame, Timestamp\n",
    "import ivolatility as ivol\n",
    "import time\n",
    "from IPython.display import display, clear_output\n",
    "import os\n",
    "import requests\n",
    "\n",
    "ivolApiKey = os.getenv('API_KEY')\n",
    "\n",
    "getOptionsChain = ivol.setMethod('/equities/option-series')\n",
    "optionsChain = getOptionsChain(symbol='SPX', expFrom='2024-12-23', expTo='2026-12-23', strikeFrom=3000, strikeTo=3025, callPut='C')\n",
    "optionsChain\n",
    "\n",
    "getMarketData = ivol.setMethod(\"/equities/rt/options-rawiv\")\n",
    "\n",
    "while True:\n",
    "    marketData = getMarketData(symbols=optionsChain['OptionSymbol'])\n",
    "    \n",
    "    df = DataFrame(marketData)\n",
    "    clear_output(wait=True)\n",
    "    display(df)\n",
    "\n",
    "    time.sleep(44)"
   ]
  }
 ],
 "metadata": {
  "language_info": {
   "name": "python"
  }
 },
 "nbformat": 4,
 "nbformat_minor": 2
}
