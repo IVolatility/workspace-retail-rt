{
 "cells": [
  {
   "cell_type": "code",
   "execution_count": null,
   "metadata": {},
   "outputs": [],
   "source": [
    "import pandas as pd\n",
    "import ivolatility as ivol\n",
    "import requests\n",
    "import os\n",
    "\n",
    "ivolApiKey = os.getenv('API_KEY')\n",
    "ivol.setLoginParams(apiKey=ivolApiKey)\n",
    "\n",
    "getOptionsChain = ivol.setMethod('/equities/eod/option-series-on-date')\n",
    "optionsChain = getOptionsChain(symbol='SPX', expFrom='2021-12-23', expTo='2025-12-23', strikeFrom=3000, strikeTo=3025, callPut='C', date='2021-09-15')\n",
    "print(optionsChain)\n",
    "#optionsChain.to_csv('optionsChain.csv', header=True)\n",
    "\n",
    "allData = pd.DataFrame()\n",
    "getMarketData = ivol.setMethod('/equities/eod/single-stock-option')\n",
    "\n",
    "for optionSymbol in optionsChain['OptionSymbol']:\n",
    "  try:\n",
    "    marketData = getMarketData(symbol=optionSymbol, from_='2021-09-01', to='2021-09-01', delayBetweenRequests = 1)\n",
    "    allData = pd.concat([allData, marketData], axis=0)\n",
    "  except requests.exceptions.RequestException as e:\n",
    "    print(f\"Error fetching data for {optionSymbol}: {e}\")\n",
    "allData"
   ]
  }
 ],
 "metadata": {
  "language_info": {
   "name": "python"
  }
 },
 "nbformat": 4,
 "nbformat_minor": 2
}
