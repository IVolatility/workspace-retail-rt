{
 "cells": [
  {
   "cell_type": "code",
   "execution_count": null,
   "metadata": {},
   "outputs": [],
   "source": [
    "import pandas as pd \n",
    "import ivolatility as ivol\n",
    "import os\n",
    "from time import sleep\n",
    "\n",
    "ivolApiKey = os.getenv('API_KEY')\n",
    "\n",
    "getOptionsChain = ivol.setMethod('/equities/eod/option-series-on-date')\n",
    "optionsChain = getOptionsChain(symbol='SPX', expFrom='2021-12-23', expTo='2025-12-23', strikeFrom=3000, strikeTo=3025, callPut='C', date='2021-09-15')\n",
    "\n",
    "allData = pd.DataFrame()\n",
    "getMarketData = ivol.setMethod('/equities/eod/single-stock-option')\n",
    "for optionSymbol in optionsChain['OptionSymbol']:\n",
    "  marketData = getMarketData(symbol=optionSymbol, from_='2021-09-01', to='2021-09-15')\n",
    "  allData = pd.concat([allData, marketData], axis=0)\n",
    "  sleep(.5)\n",
    "\n",
    "allData\n",
    "#allData.to_csv('allData.csv', header=True, index=False)"
   ]
  }
 ],
 "metadata": {
  "kernelspec": {
   "display_name": "Python 3",
   "language": "python",
   "name": "python3"
  },
  "language_info": {
   "codemirror_mode": {
    "name": "ipython",
    "version": 3
   },
   "file_extension": ".py",
   "mimetype": "text/x-python",
   "name": "python",
   "nbconvert_exporter": "python",
   "pygments_lexer": "ipython3",
   "version": "3.11.4"
  }
 },
 "nbformat": 4,
 "nbformat_minor": 2
}
