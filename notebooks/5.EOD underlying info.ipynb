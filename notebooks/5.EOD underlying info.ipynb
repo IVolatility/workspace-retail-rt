{
 "cells": [
  {
   "cell_type": "code",
   "execution_count": null,
   "metadata": {},
   "outputs": [],
   "source": [
    "import pandas as pd\n",
    "import ivolatility as ivol\n",
    "import os\n",
    " \n",
    "ivolApiKey = os.getenv('API_KEY')\n",
    "\n",
    "getOptionsChain = ivol.setMethod('/equities/underlying-info')\n",
    "optionsChain = getOptionsChain(name='gold',isActive=1,date='2025-02-10',region='EUROPE')\n",
    "optionsChain"
   ]
  }
 ],
 "metadata": {
  "kernelspec": {
   "display_name": "Python 3",
   "language": "python",
   "name": "python3"
  },
  "language_info": {
   "codemirror_mode": {
    "name": "ipython",
    "version": 3
   },
   "file_extension": ".py",
   "mimetype": "text/x-python",
   "name": "python",
   "nbconvert_exporter": "python",
   "pygments_lexer": "ipython3",
   "version": "3.11.4"
  }
 },
 "nbformat": 4,
 "nbformat_minor": 2
}
