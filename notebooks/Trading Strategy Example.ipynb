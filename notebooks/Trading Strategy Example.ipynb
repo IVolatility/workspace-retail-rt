{
 "cells": [
  {
   "cell_type": "code",
   "execution_count": null,
   "metadata": {},
   "outputs": [],
   "source": [
    "#Entry:  If the previous day's closing candle was positive, sell at the next day's open; \n",
    "#        and vice versa. If candle was unchanged, do nothing.\n",
    "#Exit:   Place closing order at EOD.\n",
    "\n",
    "import pandas as pd\n",
    "import numpy as np\n",
    "import matplotlib.pyplot as plt\n",
    "import ivolatility as ivol\n",
    "import os\n",
    "\n",
    "# Script description: https://www.ivolatility.com/api/docs#section/Python-Examples/Trading-Strategy-Example\n",
    "\n",
    "ivolApiKey = os.getenv('API_KEY')\n",
    "ivol.setLoginParams(apiKey=ivolApiKey)\n",
    "\n",
    "#______________________________________________________________________________\n",
    "#Test trading strategy on SPX's daily data for 1980-2024.\n",
    "\n",
    "getMarketData = ivol.setMethod('/equities/eod/stock-prices')\n",
    "marketData = getMarketData(symbol='SPX', from_='1980-01-01', to='2024-12-31')\n",
    "# marketData = getMarketData(symbol='DAX', from_='1980-01-01', to='2024-12-31', region='EUROPE')\n",
    "\n",
    "marketData['date'] = pd.to_datetime(marketData['date'])\n",
    "marketData = marketData.sort_values(by='date')\n",
    "\n",
    "pnl_df = pd.DataFrame(columns=['date', 'day_pnl', 'total_pnl'])\n",
    "date_col = marketData.columns.get_loc('date')\n",
    "open_col = marketData.columns.get_loc('open')\n",
    "close_col = marketData.columns.get_loc('close')\n",
    "\n",
    "pnl = 0\n",
    "loc = 0\n",
    "for i in range(marketData.shape[0]-1):\n",
    "  currentTrade = -np.sign(marketData.iat[i, close_col] - marketData.iat[i, open_col]) * marketData.iat[i+1, open_col]\n",
    "  if currentTrade == 0:\n",
    "    continue\n",
    "  currentTrade = np.sign(currentTrade)*marketData.iat[i+1, close_col] - currentTrade\n",
    "  pnl += currentTrade\n",
    "  pnl_df.loc[loc] = [marketData.iat[i+1, date_col], currentTrade, pnl]\n",
    "  loc += 1\n",
    "\n",
    "pnl_df.plot(title='SPX', x='date', y='total_pnl', kind='line')\n",
    "plt.show()"
   ]
  }
 ],
 "metadata": {
  "kernelspec": {
   "display_name": "Python 3",
   "language": "python",
   "name": "python3"
  },
  "language_info": {
   "codemirror_mode": {
    "name": "ipython",
    "version": 3
   },
   "file_extension": ".py",
   "mimetype": "text/x-python",
   "name": "python",
   "nbconvert_exporter": "python",
   "pygments_lexer": "ipython3",
   "version": "3.11.4"
  }
 },
 "nbformat": 4,
 "nbformat_minor": 2
}
